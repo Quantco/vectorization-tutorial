{
 "cells": [
  {
   "cell_type": "markdown",
   "source": [
    "# introduction to the vectorizing principle\n",
    "\n",
    "This repo is used to illustrate the vectorization principle in a tutorial. In data science applications,\n",
    "large amounts of data are processed, and dynamically typed and interpreted languages like python, R \n",
    "or Matlab are often used to perform a job in just a few lines based on a highly dynamic library universe.\n",
    "The heavy lifting is done within those libraries written in C, C++ or Fortran. Thus the user API to those libraries\n",
    "must be based on handing around large amounts of data instead of single values. \n",
    "This is the basis of the vectorization principle.\n",
    "\n",
    "This tutorial was created for a CEOI workshop in August 2023 and might not be kept up-to-date.\n",
    "\n",
    "Disclaimer: The term vectorization is also used for talking about using SIMD based instruction level parallelism provided by CPUs. Here, we talk about vectorization as a library design pattern for structural data transformation code – applying operations to vectors instead of scalars.\n",
    "\n",
    "## Table of Contents:\n",
    "\n",
    "- [vectorization01.ipynb](vectorization01.ipynb): moving the loop into the library\n",
    "- [vectorization02.ipynb](vectorization02.ipynb): vectorized translation of conditional statements\n",
    "- [vectorization03.ipynb](vectorization03.ipynb): a slightly more complex example\n",
    "- [vectorization04.ipynb](vectorization04.ipynb): defining a data pipeline\n",
    "- [vectorization05a.ipynb](vectorization05a.ipynb): generating SQL and dataframe transformation code with one syntax\n",
    "- [vectorization05b.ipynb](vectorization05b.ipynb): generating SQL and dataframe transformation code with one syntax - an example pipeline\n",
    "- [vectorization06.ipynb](vectorization06.ipynb): many ways to describe data transformations in python\n"
   ],
   "metadata": {
    "collapsed": false
   },
   "id": "1a1dca4ebe20cfdf"
  }
 ],
 "metadata": {
  "kernelspec": {
   "display_name": "Python 3",
   "language": "python",
   "name": "python3"
  },
  "language_info": {
   "codemirror_mode": {
    "name": "ipython",
    "version": 2
   },
   "file_extension": ".py",
   "mimetype": "text/x-python",
   "name": "python",
   "nbconvert_exporter": "python",
   "pygments_lexer": "ipython2",
   "version": "2.7.6"
  }
 },
 "nbformat": 4,
 "nbformat_minor": 5
}
