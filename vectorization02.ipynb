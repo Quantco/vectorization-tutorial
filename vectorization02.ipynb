{
 "cells": [
  {
   "cell_type": "markdown",
   "source": [
    "# introduction to the vectorizing principle\n",
    "\n",
    "## part 2: vectorized translation of conditional statements\n",
    "\n",
    "The first hurdle to vectorization is that control flow constructs like if-statements have no vectorized equivalent. One might think about a functional approach where the true code-block is applied to some rows, whereas the false code-block on others. However, that would require a switch from library code to user code in a slow interpreted language for every loop iteration. This would also be too slow for millions of rows.\n",
    "\n",
    "#### Initialization of a trivial dataframe with three rows:\n"
   ],
   "metadata": {
    "collapsed": false
   }
  },
  {
   "cell_type": "code",
   "execution_count": 2,
   "outputs": [
    {
     "data": {
      "text/plain": "   int_col str_col\n0        1       a\n1        2       b\n2        3       c",
      "text/html": "<div>\n<style scoped>\n    .dataframe tbody tr th:only-of-type {\n        vertical-align: middle;\n    }\n\n    .dataframe tbody tr th {\n        vertical-align: top;\n    }\n\n    .dataframe thead th {\n        text-align: right;\n    }\n</style>\n<table border=\"1\" class=\"dataframe\">\n  <thead>\n    <tr style=\"text-align: right;\">\n      <th></th>\n      <th>int_col</th>\n      <th>str_col</th>\n    </tr>\n  </thead>\n  <tbody>\n    <tr>\n      <th>0</th>\n      <td>1</td>\n      <td>a</td>\n    </tr>\n    <tr>\n      <th>1</th>\n      <td>2</td>\n      <td>b</td>\n    </tr>\n    <tr>\n      <th>2</th>\n      <td>3</td>\n      <td>c</td>\n    </tr>\n  </tbody>\n</table>\n</div>"
     },
     "execution_count": 2,
     "metadata": {},
     "output_type": "execute_result"
    }
   ],
   "source": [
    "import pandas as pd\n",
    "df = pd.DataFrame(dict(int_col=[1,2,3], str_col=[\"a\", \"b\", \"c\"]))\n",
    "df"
   ],
   "metadata": {
    "collapsed": false,
    "ExecuteTime": {
     "end_time": "2023-08-16T09:48:22.343629077Z",
     "start_time": "2023-08-16T09:48:21.897917636Z"
    }
   }
  },
  {
   "cell_type": "markdown",
   "source": [
    "#### Here is the loop version that needs translation to vectorized code:"
   ],
   "metadata": {
    "collapsed": false
   }
  },
  {
   "cell_type": "code",
   "execution_count": 3,
   "outputs": [
    {
     "data": {
      "text/plain": "0    2\n1    6\n2    9\ndtype: int64"
     },
     "execution_count": 3,
     "metadata": {},
     "output_type": "execute_result"
    }
   ],
   "source": [
    "out = pd.Series(0, index=range(len(df)))\n",
    "for i, row in df.iterrows():\n",
    "    if row[\"str_col\"] == \"a\":\n",
    "        out[i] = row[\"int_col\"] * 2\n",
    "    else:\n",
    "        out[i] = row[\"int_col\"] * 3\n",
    "out"
   ],
   "metadata": {
    "collapsed": false,
    "ExecuteTime": {
     "end_time": "2023-08-16T09:48:22.344447306Z",
     "start_time": "2023-08-16T09:48:22.309195016Z"
    }
   }
  },
  {
   "cell_type": "markdown",
   "source": [
    "#### There are two general solutions to the problem of vectorizing conditional statements: 1) providing both true-block and false-block values for all columns to a vectorized library call which also gets a boolean series to decide which one to use:"
   ],
   "metadata": {
    "collapsed": false
   }
  },
  {
   "cell_type": "code",
   "execution_count": 4,
   "outputs": [
    {
     "data": {
      "text/plain": "array([2, 6, 9])"
     },
     "execution_count": 4,
     "metadata": {},
     "output_type": "execute_result"
    }
   ],
   "source": [
    "import numpy as np\n",
    "out2 = np.where(\n",
    "    df[\"str_col\"] == \"a\",  # boolean series for condition\n",
    "    df[\"int_col\"] * 2,  # true-block expression\n",
    "    df[\"int_col\"] * 3  # false-block expression\n",
    ")\n",
    "out2"
   ],
   "metadata": {
    "collapsed": false,
    "ExecuteTime": {
     "end_time": "2023-08-16T09:48:22.345064563Z",
     "start_time": "2023-08-16T09:48:22.309411123Z"
    }
   }
  },
  {
   "cell_type": "markdown",
   "source": [
    "#### 2) the filtering solution which can be implemented by filtering on the left hand side of the assignment as well:"
   ],
   "metadata": {
    "collapsed": false
   }
  },
  {
   "cell_type": "code",
   "execution_count": 5,
   "outputs": [
    {
     "data": {
      "text/plain": "0    2\n1    6\n2    9\nName: int_col, dtype: int64"
     },
     "execution_count": 5,
     "metadata": {},
     "output_type": "execute_result"
    }
   ],
   "source": [
    "out3 = df[\"int_col\"] * 3\n",
    "_filter = df[\"str_col\"] == \"a\"\n",
    "out3[_filter] = df[\"int_col\"][_filter] * 2\n",
    "out3"
   ],
   "metadata": {
    "collapsed": false,
    "ExecuteTime": {
     "end_time": "2023-08-16T09:48:22.345583370Z",
     "start_time": "2023-08-16T09:48:22.309529044Z"
    }
   }
  },
  {
   "cell_type": "markdown",
   "source": [
    "#### The np.where solution typically provides nicer code since in the filtering solution it is very cumbersome to ensure that the same filter is applied to each series used in the right hand side expression. There are further silent bugs/traps caused by index handling of pandas which should not be discussed here. However, the filtering solution is needed when computing a conditional-column where unneccessarily computed values for np.where cause an exception:"
   ],
   "metadata": {
    "collapsed": false
   }
  },
  {
   "cell_type": "code",
   "execution_count": 6,
   "outputs": [
    {
     "name": "stdout",
     "output_type": "stream",
     "text": [
      "ValueError: Integers to negative integer powers are not allowed.\n"
     ]
    }
   ],
   "source": [
    "try:\n",
    "    df[\"power\"] = (df[\"int_col\"]-2)\n",
    "    df[\"powered\"] = np.where(df[\"power\"] >= 0, df[\"int_col\"] ** df[\"power\"], df[\"int_col\"])\n",
    "except ValueError as e:\n",
    "    print(\"ValueError:\", e)"
   ],
   "metadata": {
    "collapsed": false,
    "ExecuteTime": {
     "end_time": "2023-08-16T09:48:22.345976782Z",
     "start_time": "2023-08-16T09:48:22.309663088Z"
    }
   }
  },
  {
   "cell_type": "markdown",
   "source": [
    "#### The filtering solution works here:"
   ],
   "metadata": {
    "collapsed": false
   }
  },
  {
   "cell_type": "code",
   "execution_count": 7,
   "outputs": [
    {
     "data": {
      "text/plain": "   int_col str_col  power  powered\n0        1       a     -1        1\n1        2       b      0        1\n2        3       c      1        3",
      "text/html": "<div>\n<style scoped>\n    .dataframe tbody tr th:only-of-type {\n        vertical-align: middle;\n    }\n\n    .dataframe tbody tr th {\n        vertical-align: top;\n    }\n\n    .dataframe thead th {\n        text-align: right;\n    }\n</style>\n<table border=\"1\" class=\"dataframe\">\n  <thead>\n    <tr style=\"text-align: right;\">\n      <th></th>\n      <th>int_col</th>\n      <th>str_col</th>\n      <th>power</th>\n      <th>powered</th>\n    </tr>\n  </thead>\n  <tbody>\n    <tr>\n      <th>0</th>\n      <td>1</td>\n      <td>a</td>\n      <td>-1</td>\n      <td>1</td>\n    </tr>\n    <tr>\n      <th>1</th>\n      <td>2</td>\n      <td>b</td>\n      <td>0</td>\n      <td>1</td>\n    </tr>\n    <tr>\n      <th>2</th>\n      <td>3</td>\n      <td>c</td>\n      <td>1</td>\n      <td>3</td>\n    </tr>\n  </tbody>\n</table>\n</div>"
     },
     "execution_count": 7,
     "metadata": {},
     "output_type": "execute_result"
    }
   ],
   "source": [
    "df[\"power\"] = (df[\"int_col\"]-2)\n",
    "df[\"powered\"] = df[\"int_col\"]\n",
    "_filter = df[\"power\"] >= 0\n",
    "df.loc[_filter, \"powered\"] = df[\"int_col\"][_filter] ** df[\"power\"][_filter]\n",
    "df"
   ],
   "metadata": {
    "collapsed": false,
    "ExecuteTime": {
     "end_time": "2023-08-16T09:48:22.346802281Z",
     "start_time": "2023-08-16T09:48:22.309790607Z"
    }
   }
  },
  {
   "cell_type": "markdown",
   "source": [
    "Next: [vectorization03.ipynb](vectorization03.ipynb): a slightly more complex example"
   ],
   "metadata": {
    "collapsed": false
   }
  }
 ],
 "metadata": {
  "kernelspec": {
   "display_name": "Python 3",
   "language": "python",
   "name": "python3"
  },
  "language_info": {
   "codemirror_mode": {
    "name": "ipython",
    "version": 2
   },
   "file_extension": ".py",
   "mimetype": "text/x-python",
   "name": "python",
   "nbconvert_exporter": "python",
   "pygments_lexer": "ipython2",
   "version": "2.7.6"
  }
 },
 "nbformat": 4,
 "nbformat_minor": 0
}
